{
 "cells": [
  {
   "cell_type": "markdown",
   "id": "a17ef601",
   "metadata": {},
   "source": [
    "# 사이버 폭력 예방 관련 데이터 분석"
   ]
  },
  {
   "cell_type": "markdown",
   "id": "7282fd9e",
   "metadata": {},
   "source": [
    "**2021년 기준, 청소년의 나이는 만 9(2012)~24(1997)세**"
   ]
  },
  {
   "cell_type": "markdown",
   "id": "3802a9a8",
   "metadata": {},
   "source": [
    "- 사회적 활동이 적은 청소년 → 사이버 폭력 연관성\n",
    "- 스마트폰/인터넷 중독 → 사이버 폭력 연관성"
   ]
  },
  {
   "cell_type": "markdown",
   "id": "6ba35961",
   "metadata": {},
   "source": [
    "### 라이브러리 불러오기"
   ]
  },
  {
   "cell_type": "code",
   "execution_count": 1,
   "id": "f7b19975",
   "metadata": {},
   "outputs": [],
   "source": [
    "# 라이브러리 로딩\n",
    "import pandas as pd\n",
    "import numpy as np\n",
    "\n",
    "# 시각화 패키지\n",
    "import matplotlib.pyplot as plt\n",
    "import seaborn as sns\n",
    "from statsmodels.graphics.mosaicplot import mosaic      #mosaic plot!\n",
    "\n",
    "# 통계 패키지\n",
    "import scipy.stats as spst"
   ]
  },
  {
   "cell_type": "code",
   "execution_count": 2,
   "id": "c443c6b9",
   "metadata": {},
   "outputs": [],
   "source": [
    "# 이변량 분석: 범주형 X -> 범주형 Y\n",
    "def eda2_cc(data, feature, target):\n",
    "\n",
    "    # 교차표 (먼저 집계)\n",
    "    table = pd.crosstab(data[target], data[feature])\n",
    "    print('교차표\\n')\n",
    "    display(table)\n",
    "    display(pd.crosstab(data[target], data[feature], normalize = 'columns'))\n",
    "    print('-' * 100)\n",
    "\n",
    "    # 수치화: 카이제곱검정\n",
    "    result = spst.chi2_contingency(table)\n",
    "    print('카이제곱통계량', result[0])\n",
    "    print('p-value', result[1])\n",
    "    print('자유도', result[2])\n",
    "    print('기대빈도\\n',result[3])\n",
    "    \n",
    "    # 시각화: mosaic plot\n",
    "    mosaic(data, [feature,target])\n",
    "    plt.axhline(1- data[target].mean(), color = 'r')\n",
    "    plt.show()\n",
    "    \n",
    "    # 번외: 100% Stacked Bar\n",
    "    # x의 비율은 신경 쓰지 않고 y의 비율을 신경 씀!\n",
    "    temp = pd.crosstab(data[feature], data[target], normalize = 'index')\n",
    "    display(temp)\n",
    "    temp.plot.bar(stacked=True)\n",
    "    plt.axhline(1-data[target].mean(), color = 'r')\n",
    "    plt.xticks(rotation=0)\n",
    "    plt.show()"
   ]
  },
  {
   "cell_type": "markdown",
   "id": "e9773a07",
   "metadata": {},
   "source": [
    "### 데이터 불러오기"
   ]
  },
  {
   "cell_type": "code",
   "execution_count": 3,
   "id": "f51992fc",
   "metadata": {},
   "outputs": [],
   "source": [
    "data_path = './data/'"
   ]
  },
  {
   "cell_type": "code",
   "execution_count": 4,
   "id": "ef3ccf3a",
   "metadata": {},
   "outputs": [
    {
     "name": "stderr",
     "output_type": "stream",
     "text": [
      "C:\\Users\\User\\anaconda3\\envs\\ai_env\\lib\\site-packages\\IPython\\core\\interactiveshell.py:3457: DtypeWarning: Columns (95) have mixed types.Specify dtype option on import or set low_memory=False.\n",
      "  exec(code_obj, self.user_global_ns, self.user_ns)\n"
     ]
    },
    {
     "data": {
      "text/html": [
       "<div>\n",
       "<style scoped>\n",
       "    .dataframe tbody tr th:only-of-type {\n",
       "        vertical-align: middle;\n",
       "    }\n",
       "\n",
       "    .dataframe tbody tr th {\n",
       "        vertical-align: top;\n",
       "    }\n",
       "\n",
       "    .dataframe thead th {\n",
       "        text-align: right;\n",
       "    }\n",
       "</style>\n",
       "<table border=\"1\" class=\"dataframe\">\n",
       "  <thead>\n",
       "    <tr style=\"text-align: right;\">\n",
       "      <th></th>\n",
       "      <th>idx</th>\n",
       "      <th>학교</th>\n",
       "      <th>시도</th>\n",
       "      <th>행정구</th>\n",
       "      <th>행정구역분류</th>\n",
       "      <th>학교급</th>\n",
       "      <th>고등학교유형</th>\n",
       "      <th>학교세부유형</th>\n",
       "      <th>남녀공학구분</th>\n",
       "      <th>지역규모</th>\n",
       "      <th>...</th>\n",
       "      <th>A_5</th>\n",
       "      <th>A_6</th>\n",
       "      <th>A_7</th>\n",
       "      <th>A_8</th>\n",
       "      <th>A_7_etc</th>\n",
       "      <th>B_1</th>\n",
       "      <th>B_2</th>\n",
       "      <th>C</th>\n",
       "      <th>D</th>\n",
       "      <th>WT</th>\n",
       "    </tr>\n",
       "  </thead>\n",
       "  <tbody>\n",
       "    <tr>\n",
       "      <th>0</th>\n",
       "      <td>1</td>\n",
       "      <td>4</td>\n",
       "      <td>서울</td>\n",
       "      <td>마포구</td>\n",
       "      <td>11-11140</td>\n",
       "      <td>초등학교</td>\n",
       "      <td>NaN</td>\n",
       "      <td>초등학교</td>\n",
       "      <td>NaN</td>\n",
       "      <td>특별/광역시</td>\n",
       "      <td>...</td>\n",
       "      <td>5.0</td>\n",
       "      <td>NaN</td>\n",
       "      <td>NaN</td>\n",
       "      <td>NaN</td>\n",
       "      <td>NaN</td>\n",
       "      <td>5</td>\n",
       "      <td>5</td>\n",
       "      <td>5</td>\n",
       "      <td>4</td>\n",
       "      <td>558.306878</td>\n",
       "    </tr>\n",
       "    <tr>\n",
       "      <th>1</th>\n",
       "      <td>2</td>\n",
       "      <td>4</td>\n",
       "      <td>서울</td>\n",
       "      <td>마포구</td>\n",
       "      <td>11-11140</td>\n",
       "      <td>초등학교</td>\n",
       "      <td>NaN</td>\n",
       "      <td>초등학교</td>\n",
       "      <td>NaN</td>\n",
       "      <td>특별/광역시</td>\n",
       "      <td>...</td>\n",
       "      <td>NaN</td>\n",
       "      <td>NaN</td>\n",
       "      <td>NaN</td>\n",
       "      <td>NaN</td>\n",
       "      <td>NaN</td>\n",
       "      <td>5</td>\n",
       "      <td>5</td>\n",
       "      <td>4</td>\n",
       "      <td>5</td>\n",
       "      <td>635.757962</td>\n",
       "    </tr>\n",
       "    <tr>\n",
       "      <th>2</th>\n",
       "      <td>3</td>\n",
       "      <td>4</td>\n",
       "      <td>서울</td>\n",
       "      <td>마포구</td>\n",
       "      <td>11-11140</td>\n",
       "      <td>초등학교</td>\n",
       "      <td>NaN</td>\n",
       "      <td>초등학교</td>\n",
       "      <td>NaN</td>\n",
       "      <td>특별/광역시</td>\n",
       "      <td>...</td>\n",
       "      <td>5.0</td>\n",
       "      <td>NaN</td>\n",
       "      <td>NaN</td>\n",
       "      <td>NaN</td>\n",
       "      <td>NaN</td>\n",
       "      <td>4</td>\n",
       "      <td>4</td>\n",
       "      <td>6</td>\n",
       "      <td>5</td>\n",
       "      <td>635.757962</td>\n",
       "    </tr>\n",
       "    <tr>\n",
       "      <th>3</th>\n",
       "      <td>4</td>\n",
       "      <td>4</td>\n",
       "      <td>서울</td>\n",
       "      <td>마포구</td>\n",
       "      <td>11-11140</td>\n",
       "      <td>초등학교</td>\n",
       "      <td>NaN</td>\n",
       "      <td>초등학교</td>\n",
       "      <td>NaN</td>\n",
       "      <td>특별/광역시</td>\n",
       "      <td>...</td>\n",
       "      <td>5.0</td>\n",
       "      <td>NaN</td>\n",
       "      <td>NaN</td>\n",
       "      <td>NaN</td>\n",
       "      <td>NaN</td>\n",
       "      <td>5</td>\n",
       "      <td>5</td>\n",
       "      <td>5</td>\n",
       "      <td>4</td>\n",
       "      <td>635.757962</td>\n",
       "    </tr>\n",
       "    <tr>\n",
       "      <th>4</th>\n",
       "      <td>5</td>\n",
       "      <td>4</td>\n",
       "      <td>서울</td>\n",
       "      <td>마포구</td>\n",
       "      <td>11-11140</td>\n",
       "      <td>초등학교</td>\n",
       "      <td>NaN</td>\n",
       "      <td>초등학교</td>\n",
       "      <td>NaN</td>\n",
       "      <td>특별/광역시</td>\n",
       "      <td>...</td>\n",
       "      <td>5.0</td>\n",
       "      <td>NaN</td>\n",
       "      <td>NaN</td>\n",
       "      <td>NaN</td>\n",
       "      <td>NaN</td>\n",
       "      <td>4</td>\n",
       "      <td>5</td>\n",
       "      <td>4</td>\n",
       "      <td>4</td>\n",
       "      <td>558.306878</td>\n",
       "    </tr>\n",
       "  </tbody>\n",
       "</table>\n",
       "<p>5 rows × 244 columns</p>\n",
       "</div>"
      ],
      "text/plain": [
       "   idx  학교  시도  행정구    행정구역분류   학교급 고등학교유형 학교세부유형 남녀공학구분    지역규모  ...  A_5  \\\n",
       "0    1   4  서울  마포구  11-11140  초등학교    NaN   초등학교    NaN  특별/광역시  ...  5.0   \n",
       "1    2   4  서울  마포구  11-11140  초등학교    NaN   초등학교    NaN  특별/광역시  ...  NaN   \n",
       "2    3   4  서울  마포구  11-11140  초등학교    NaN   초등학교    NaN  특별/광역시  ...  5.0   \n",
       "3    4   4  서울  마포구  11-11140  초등학교    NaN   초등학교    NaN  특별/광역시  ...  5.0   \n",
       "4    5   4  서울  마포구  11-11140  초등학교    NaN   초등학교    NaN  특별/광역시  ...  5.0   \n",
       "\n",
       "   A_6  A_7  A_8  A_7_etc  B_1  B_2  C  D          WT  \n",
       "0  NaN  NaN  NaN      NaN    5    5  5  4  558.306878  \n",
       "1  NaN  NaN  NaN      NaN    5    5  4  5  635.757962  \n",
       "2  NaN  NaN  NaN      NaN    4    4  6  5  635.757962  \n",
       "3  NaN  NaN  NaN      NaN    5    5  5  4  635.757962  \n",
       "4  NaN  NaN  NaN      NaN    4    5  4  4  558.306878  \n",
       "\n",
       "[5 rows x 244 columns]"
      ]
     },
     "execution_count": 4,
     "metadata": {},
     "output_type": "execute_result"
    }
   ],
   "source": [
    "# usecols = []\n",
    "\n",
    "v_adol = pd.read_csv(data_path + '2021_사이버폭력_학생.csv', encoding='cp949',\n",
    "#                      usecols=[]\n",
    "                    )\n",
    "\n",
    "v_adol.head()"
   ]
  },
  {
   "cell_type": "code",
   "execution_count": 5,
   "id": "a4812a70",
   "metadata": {},
   "outputs": [
    {
     "name": "stderr",
     "output_type": "stream",
     "text": [
      "C:\\Users\\User\\anaconda3\\envs\\ai_env\\lib\\site-packages\\IPython\\core\\interactiveshell.py:3457: DtypeWarning: Columns (82,105,172,203) have mixed types.Specify dtype option on import or set low_memory=False.\n",
      "  exec(code_obj, self.user_global_ns, self.user_ns)\n"
     ]
    },
    {
     "data": {
      "text/html": [
       "<div>\n",
       "<style scoped>\n",
       "    .dataframe tbody tr th:only-of-type {\n",
       "        vertical-align: middle;\n",
       "    }\n",
       "\n",
       "    .dataframe tbody tr th {\n",
       "        vertical-align: top;\n",
       "    }\n",
       "\n",
       "    .dataframe thead th {\n",
       "        text-align: right;\n",
       "    }\n",
       "</style>\n",
       "<table border=\"1\" class=\"dataframe\">\n",
       "  <thead>\n",
       "    <tr style=\"text-align: right;\">\n",
       "      <th></th>\n",
       "      <th>ID</th>\n",
       "      <th>AREA</th>\n",
       "      <th>SCALE</th>\n",
       "      <th>AREACODE</th>\n",
       "      <th>CID</th>\n",
       "      <th>GID</th>\n",
       "      <th>AREA1</th>\n",
       "      <th>AREA2</th>\n",
       "      <th>AREA3</th>\n",
       "      <th>AREA4</th>\n",
       "      <th>...</th>\n",
       "      <th>DQ1_ETC</th>\n",
       "      <th>DQ2_1</th>\n",
       "      <th>DQ2_2</th>\n",
       "      <th>DQ3</th>\n",
       "      <th>DQ4</th>\n",
       "      <th>DQ5</th>\n",
       "      <th>DQ5_1</th>\n",
       "      <th>DQ5_1_ETC</th>\n",
       "      <th>END</th>\n",
       "      <th>WT</th>\n",
       "    </tr>\n",
       "  </thead>\n",
       "  <tbody>\n",
       "    <tr>\n",
       "      <th>0</th>\n",
       "      <td>2</td>\n",
       "      <td>32</td>\n",
       "      <td>2</td>\n",
       "      <td>32030340191</td>\n",
       "      <td>33</td>\n",
       "      <td>31</td>\n",
       "      <td>강원도</td>\n",
       "      <td>강릉시</td>\n",
       "      <td>강동면</td>\n",
       "      <td>526-1번지</td>\n",
       "      <td>...</td>\n",
       "      <td>NaN</td>\n",
       "      <td>3</td>\n",
       "      <td>1.0</td>\n",
       "      <td>2</td>\n",
       "      <td>4</td>\n",
       "      <td>2</td>\n",
       "      <td>NaN</td>\n",
       "      <td>NaN</td>\n",
       "      <td>NaN</td>\n",
       "      <td>9011.071429</td>\n",
       "    </tr>\n",
       "    <tr>\n",
       "      <th>1</th>\n",
       "      <td>6</td>\n",
       "      <td>32</td>\n",
       "      <td>2</td>\n",
       "      <td>32030340191</td>\n",
       "      <td>33</td>\n",
       "      <td>35</td>\n",
       "      <td>강원도</td>\n",
       "      <td>강릉시</td>\n",
       "      <td>강동면</td>\n",
       "      <td>526-1번지</td>\n",
       "      <td>...</td>\n",
       "      <td>NaN</td>\n",
       "      <td>4</td>\n",
       "      <td>1.0</td>\n",
       "      <td>4</td>\n",
       "      <td>2</td>\n",
       "      <td>2</td>\n",
       "      <td>NaN</td>\n",
       "      <td>NaN</td>\n",
       "      <td>NaN</td>\n",
       "      <td>9011.071429</td>\n",
       "    </tr>\n",
       "    <tr>\n",
       "      <th>2</th>\n",
       "      <td>8</td>\n",
       "      <td>32</td>\n",
       "      <td>2</td>\n",
       "      <td>32030340191</td>\n",
       "      <td>33</td>\n",
       "      <td>37</td>\n",
       "      <td>강원도</td>\n",
       "      <td>강릉시</td>\n",
       "      <td>강동면</td>\n",
       "      <td>526-1번지</td>\n",
       "      <td>...</td>\n",
       "      <td>NaN</td>\n",
       "      <td>3</td>\n",
       "      <td>1.0</td>\n",
       "      <td>2</td>\n",
       "      <td>3</td>\n",
       "      <td>2</td>\n",
       "      <td>NaN</td>\n",
       "      <td>NaN</td>\n",
       "      <td>NaN</td>\n",
       "      <td>2124.459459</td>\n",
       "    </tr>\n",
       "    <tr>\n",
       "      <th>3</th>\n",
       "      <td>14</td>\n",
       "      <td>32</td>\n",
       "      <td>2</td>\n",
       "      <td>32030340191</td>\n",
       "      <td>38</td>\n",
       "      <td>43</td>\n",
       "      <td>강원도</td>\n",
       "      <td>강릉시</td>\n",
       "      <td>강동면</td>\n",
       "      <td>512번지</td>\n",
       "      <td>...</td>\n",
       "      <td>NaN</td>\n",
       "      <td>4</td>\n",
       "      <td>1.0</td>\n",
       "      <td>2</td>\n",
       "      <td>5</td>\n",
       "      <td>2</td>\n",
       "      <td>NaN</td>\n",
       "      <td>NaN</td>\n",
       "      <td>NaN</td>\n",
       "      <td>2046.000000</td>\n",
       "    </tr>\n",
       "    <tr>\n",
       "      <th>4</th>\n",
       "      <td>23</td>\n",
       "      <td>32</td>\n",
       "      <td>2</td>\n",
       "      <td>32030340191</td>\n",
       "      <td>47</td>\n",
       "      <td>52</td>\n",
       "      <td>강원도</td>\n",
       "      <td>강릉시</td>\n",
       "      <td>강동면</td>\n",
       "      <td>486번지</td>\n",
       "      <td>...</td>\n",
       "      <td>NaN</td>\n",
       "      <td>4</td>\n",
       "      <td>1.0</td>\n",
       "      <td>2</td>\n",
       "      <td>5</td>\n",
       "      <td>2</td>\n",
       "      <td>NaN</td>\n",
       "      <td>NaN</td>\n",
       "      <td>NaN</td>\n",
       "      <td>2046.000000</td>\n",
       "    </tr>\n",
       "  </tbody>\n",
       "</table>\n",
       "<p>5 rows × 213 columns</p>\n",
       "</div>"
      ],
      "text/plain": [
       "   ID  AREA  SCALE     AREACODE  CID  GID AREA1 AREA2 AREA3    AREA4  ...  \\\n",
       "0   2    32      2  32030340191   33   31   강원도   강릉시   강동면  526-1번지  ...   \n",
       "1   6    32      2  32030340191   33   35   강원도   강릉시   강동면  526-1번지  ...   \n",
       "2   8    32      2  32030340191   33   37   강원도   강릉시   강동면  526-1번지  ...   \n",
       "3  14    32      2  32030340191   38   43   강원도   강릉시   강동면    512번지  ...   \n",
       "4  23    32      2  32030340191   47   52   강원도   강릉시   강동면    486번지  ...   \n",
       "\n",
       "  DQ1_ETC DQ2_1  DQ2_2  DQ3  DQ4  DQ5  DQ5_1  DQ5_1_ETC  END           WT  \n",
       "0     NaN     3    1.0    2    4    2    NaN        NaN  NaN  9011.071429  \n",
       "1     NaN     4    1.0    4    2    2    NaN        NaN  NaN  9011.071429  \n",
       "2     NaN     3    1.0    2    3    2    NaN        NaN  NaN  2124.459459  \n",
       "3     NaN     4    1.0    2    5    2    NaN        NaN  NaN  2046.000000  \n",
       "4     NaN     4    1.0    2    5    2    NaN        NaN  NaN  2046.000000  \n",
       "\n",
       "[5 rows x 213 columns]"
      ]
     },
     "execution_count": 5,
     "metadata": {},
     "output_type": "execute_result"
    }
   ],
   "source": [
    "v_adult = pd.read_csv(data_path + '2021_사이버폭력_성인.csv', encoding='cp949',\n",
    "#                      usecols=[]\n",
    "                    )\n",
    "\n",
    "v_adult.head()"
   ]
  },
  {
   "cell_type": "markdown",
   "id": "b4f742f1",
   "metadata": {},
   "source": [
    "### 먼저, 성인 데이터에서 성인 청소년 데이터만 가져오기"
   ]
  },
  {
   "cell_type": "code",
   "execution_count": 6,
   "id": "5c6304f0",
   "metadata": {},
   "outputs": [
    {
     "data": {
      "text/plain": [
       "23    81\n",
       "22    76\n",
       "24    70\n",
       "21    65\n",
       "20    47\n",
       "Name: AGE, dtype: int64"
      ]
     },
     "execution_count": 6,
     "metadata": {},
     "output_type": "execute_result"
    }
   ],
   "source": [
    "v_adult.loc[v_adult['AGE'] <= 24, 'AGE'].value_counts()"
   ]
  },
  {
   "cell_type": "code",
   "execution_count": 7,
   "id": "f5add74f",
   "metadata": {},
   "outputs": [
    {
     "data": {
      "text/plain": [
       "23    81\n",
       "22    76\n",
       "24    70\n",
       "21    65\n",
       "20    47\n",
       "Name: AGE, dtype: int64"
      ]
     },
     "execution_count": 7,
     "metadata": {},
     "output_type": "execute_result"
    }
   ],
   "source": [
    "v_adult = v_adult.loc[v_adult['AGE'] <= 24, :]\n",
    "v_adult.loc[:, 'AGE'].value_counts()"
   ]
  },
  {
   "cell_type": "markdown",
   "id": "6cd4a905",
   "metadata": {},
   "source": [
    "### 학생\n",
    "\n",
    "- **기본 사항**\n",
    "<br><br>\n",
    "    - Q1 (최근 1년간 하루 평균 인터넷 이용 시간)\n",
    "        - 1.0: 1시간 미만, 2.0: 1시간 이상 ~ 2시간 미만, 3.0: 2시간 이상 ~ 3시간 미만, 4.0: 3시간 이상 ~ 4시간 미만, 5.0: 4시간 이상 ~ 5시간 미만, 6.0: 5시간 이상\n",
    "<br><br>\n",
    "    - Q15 (최근 1년간 사이버 폭력 예방 및 대응 관련 교육을 들은 적 있는지)\n",
    "        - 1: 있다, 2: 없다\n",
    "<br><br>\n",
    "\n",
    "- **사회적 활동 관련 칼럼**\n",
    "<br><br>\n",
    "    - Q11_1 ~ Q11_3 (친구와의 관계)\n",
    "        - 1.0: 전혀 그렇지 않다, 2.0: 그렇지 않다, 3.0: 그렇다, 4.0: 매우 그렇다\n",
    "        - 1: 내 친구들은 나와 이야기를 나눌 때 서로 생각이 달라도 존중해 준다\n",
    "        - 2: 내 친구들은 내가 말하는 것에 관심을 갖고 들어 준다\n",
    "        - 3: 나는 친구들에게 내 고민과 문제를 솔직하게 털어놓는다\n",
    "<br><br>\n",
    "    - Q12_1 ~ Q12_3 (부모님과의 관계)\n",
    "        - 1.0: 전혀 그렇지 않다, 2.0: 그렇지 않다, 3.0: 그렇다, 4.0: 매우 그렇다\n",
    "        - 1: 내 일은 나 스스로 결정할 수 있게 격려해 주신다\n",
    "        - 2: 내가 학교생활을 어떻게 하는지 관심 있게 물어보신다\n",
    "        - 3: 사소한 것도 여쭤보면 잘 듣고 응답해 주신다\n",
    "<br><br>\n",
    "- **사이버 폭력 관련 칼럼**\n",
    "<br><br>\n",
    "    - Q9a_1 ~ Q9a_8 (다음과 같은 괴롭힘 행동을 한 적이 있는가?)\n",
    "        - 1.0: 1년에 한 두번, 2.0: 6개월에 한 두번, 3.0: 한 달에 한 두번, 4.0: 일주일에 한 두번, 5.0: 거의 매일, 9.0: 전혀 없음\n",
    "<br><br>\n",
    "    - Q9_1 (괴롭힌 사람이 누구인가?)\n",
    "        - 1.0: 아는 사람\n",
    "        - 2.0: 전혀 모르는 사람\n",
    "<br><br>\n",
    "    - Q9_2 (누구와 함께 괴롭혔는가?)\n",
    "        - 1.0: 혼자, 2.0: 둘, 3.0: 셋, 4.0: 넷 이상\n",
    "<br><br>\n",
    "    - Q9_3_1 ~ Q9_3_7, Q9_3_7_etc (어떤 매체를 통해 괴롭혔는가?)\n",
    "        - 1.0: 문자 및 인스턴트 메시지(카카오톡, 라인, 페이스북 메신저 등)\n",
    "        - 2.0: 커뮤니티·동호회 (네이버·다음 카페, 클럽 등)\n",
    "        - 3.0: SNS (페이스북, 인스타그램, 블로그, 틱톡 등)\n",
    "        - 4.0: 개인 홈페이지\n",
    "        - 5.0: 이메일\n",
    "        - 6.0: 온라인 게임\n",
    "        - 7.0: 기타\n",
    "<br><br>\n",
    "    - Q9_4_1 ~ Q9_4_6 (괴롭히는 행동을 한 이유는?)\n",
    "        - 1.0: 재미나 장난으로, 스트레스 해소를 위해\n",
    "        2.0: 주변에서 함께 하므로, 친구들과 어울리기 위해\n",
    "        3.0: 상대방이 먼저 그런 행동을 해서, 보복하기 위해\n",
    "        4.0: 상대방이 싫어서, 상대방에게 화가 나서\n",
    "        5.0: 내 의견과 달라서, 상대방이 틀린 말을 해서\n",
    "        6.0: 그냥 특별한 이유 없이\n",
    "<br><br>\n",
    "    - Q9_6_1 ~ Q9_6_5 (괴롭히고 나서 어떤 생각이 들었는가?)\n",
    "        - 1.0: 전혀 그렇지 않다, 2.0: 그렇지 않다, 3.0: 그렇다, 4.0: 매우 그렇다\n",
    "        - 1: 정당한 행동이라 생각했다\n",
    "        - 2: 상대방에게 미안하고 후회스러웠다\n",
    "        - 3: 문제가 생길까봐 걱정되었다\n",
    "        - 4: 흥미롭고 재미있었다\n",
    "        - 5: 아무런 느낌이 없었다\n",
    "<br><br>\n",
    "    - Q10_1 ~ Q10_12 (다음을 대상으로 조롱/비난 행동을 한 적이 있는가?)\n",
    "        - 1.0: 1년에 한 두번, 2.0: 6개월에 한 두번, 3.0: 한 달에 한 두번, 4.0: 일주일에 한 두번, 5.0: 거의 매일, 9.0: 전혀 없음"
   ]
  },
  {
   "cell_type": "code",
   "execution_count": 8,
   "id": "4aa1f186",
   "metadata": {},
   "outputs": [
    {
     "name": "stdout",
     "output_type": "stream",
     "text": [
      "<class 'pandas.core.frame.DataFrame'>\n",
      "RangeIndex: 9017 entries, 0 to 9016\n",
      "Data columns (total 49 columns):\n",
      " #   Column      Non-Null Count  Dtype  \n",
      "---  ------      --------------  -----  \n",
      " 0   Q1          9017 non-null   int64  \n",
      " 1   Q15         9017 non-null   int64  \n",
      " 2   Q9a_1       9017 non-null   int64  \n",
      " 3   Q9a_2       9017 non-null   int64  \n",
      " 4   Q9a_3       9017 non-null   int64  \n",
      " 5   Q9a_4       9017 non-null   int64  \n",
      " 6   Q9a_5       9017 non-null   int64  \n",
      " 7   Q9a_6       9017 non-null   int64  \n",
      " 8   Q9a_7       9017 non-null   int64  \n",
      " 9   Q9a_8       9017 non-null   int64  \n",
      " 10  Q9_1        1236 non-null   float64\n",
      " 11  Q9_2        1236 non-null   float64\n",
      " 12  Q9_3_1      639 non-null    float64\n",
      " 13  Q9_3_2      118 non-null    float64\n",
      " 14  Q9_3_3      381 non-null    float64\n",
      " 15  Q9_3_4      53 non-null     float64\n",
      " 16  Q9_3_5      34 non-null     float64\n",
      " 17  Q9_3_6      278 non-null    float64\n",
      " 18  Q9_3_7      24 non-null     float64\n",
      " 19  Q9_3_7_etc  23 non-null     object \n",
      " 20  Q9_4_1      308 non-null    float64\n",
      " 21  Q9_4_2      193 non-null    float64\n",
      " 22  Q9_4_3      458 non-null    float64\n",
      " 23  Q9_4_4      302 non-null    float64\n",
      " 24  Q9_4_5      185 non-null    float64\n",
      " 25  Q9_4_6      137 non-null    float64\n",
      " 26  Q9_6_1      1236 non-null   float64\n",
      " 27  Q9_6_2      1236 non-null   float64\n",
      " 28  Q9_6_3      1236 non-null   float64\n",
      " 29  Q9_6_4      1236 non-null   float64\n",
      " 30  Q9_6_5      1236 non-null   float64\n",
      " 31  Q10_1       9017 non-null   int64  \n",
      " 32  Q10_2       9017 non-null   int64  \n",
      " 33  Q10_3       9017 non-null   int64  \n",
      " 34  Q10_4       9017 non-null   int64  \n",
      " 35  Q10_5       9017 non-null   int64  \n",
      " 36  Q10_6       9017 non-null   int64  \n",
      " 37  Q10_7       9017 non-null   int64  \n",
      " 38  Q10_8       9017 non-null   int64  \n",
      " 39  Q10_9       9017 non-null   int64  \n",
      " 40  Q10_10      9017 non-null   int64  \n",
      " 41  Q10_11      9017 non-null   int64  \n",
      " 42  Q10_12      9017 non-null   int64  \n",
      " 43  Q11_1       9017 non-null   int64  \n",
      " 44  Q11_2       9017 non-null   int64  \n",
      " 45  Q11_3       9017 non-null   int64  \n",
      " 46  Q12_1       9017 non-null   int64  \n",
      " 47  Q12_2       9017 non-null   int64  \n",
      " 48  Q12_3       9017 non-null   int64  \n",
      "dtypes: float64(20), int64(28), object(1)\n",
      "memory usage: 3.4+ MB\n"
     ]
    }
   ],
   "source": [
    "select_cols = ['Q1', 'Q15',     # 기본 정보 칼럼\n",
    "               'Q9a_1', 'Q9a_2', 'Q9a_3', 'Q9a_4', 'Q9a_5', 'Q9a_6', 'Q9a_7', 'Q9a_8',    # 괴롭힘 여부\n",
    "               'Q9_1', 'Q9_2', \n",
    "               'Q9_3_1', 'Q9_3_2', 'Q9_3_3', 'Q9_3_4', 'Q9_3_5', 'Q9_3_6', 'Q9_3_7', 'Q9_3_7_etc', # 괴롭힘 매체\n",
    "               'Q9_4_1', 'Q9_4_2', 'Q9_4_3', 'Q9_4_4', 'Q9_4_5', 'Q9_4_6',  # 괴롭힘 행동 이유\n",
    "               'Q9_6_1', 'Q9_6_2', 'Q9_6_3', 'Q9_6_4', 'Q9_6_5',  # 괴롭힘 이후 생각\n",
    "               'Q10_1', 'Q10_2', 'Q10_3', 'Q10_4', 'Q10_5', 'Q10_6', 'Q10_7', 'Q10_8',  # 조롱/비난 행동 여부\n",
    "               'Q10_9', 'Q10_10', 'Q10_11', 'Q10_12', \n",
    "               'Q11_1', 'Q11_2', 'Q11_3', 'Q12_1', 'Q12_2', 'Q12_3',    # 사회적 활동 관련 칼럼\n",
    "               ]\n",
    "\n",
    "v_adol_s = v_adol.loc[:, select_cols]\n",
    "v_adol_s.info()"
   ]
  },
  {
   "cell_type": "code",
   "execution_count": 9,
   "id": "a4e43e7d",
   "metadata": {},
   "outputs": [],
   "source": [
    "# 괴롭힘/조롱/비난 행동을 주기적으로(한 달에 1번 이상) 하는 사람\n",
    "v_adol_s['V_O'] = False\n",
    "v_cols = ['Q9a_1', 'Q9a_2', 'Q9a_3', 'Q9a_4', 'Q9a_5', 'Q9a_6', 'Q9a_7', 'Q9a_8',    # 사이버 폭력 관련 칼럼\n",
    "          'Q10_1', 'Q10_2', 'Q10_3', 'Q10_4', 'Q10_5', 'Q10_6', 'Q10_7', 'Q10_8', 'Q10_9', 'Q10_10', 'Q10_11', 'Q10_12'\n",
    "         ]\n",
    "\n",
    "# 해당 행의 V_0을 True로 변경\n",
    "for c in v_cols:\n",
    "    v_adol_s.loc[v_adol_s[c].isin([3, 4, 5]), 'V_O'] = True\n",
    "\n",
    "# 관련 칼럼 지우기\n",
    "v_adol_s.drop(v_cols, axis=1, inplace=True)\n",
    "\n",
    "\n",
    "\n",
    "\n",
    "# 친구/부모님과의 관계가 그렇다, 매우 그렇다\n",
    "\n",
    "v_adol_s['S_O'] = 'Negative'\n",
    "s_cols = ['Q11_1', 'Q11_2', 'Q11_3', 'Q12_1', 'Q12_2', 'Q12_3'\n",
    "         ]\n",
    "\n",
    "# 해당 행의 V_0을 True로 변경\n",
    "for c in s_cols:\n",
    "    v_adol_s.loc[v_adol_s[c].isin([3, 4]), 'S_O'] = 'Positive'\n",
    "\n",
    "# 관련 칼럼 지우기\n",
    "v_adol_s.drop(s_cols, axis=1, inplace=True)"
   ]
  },
  {
   "cell_type": "code",
   "execution_count": 10,
   "id": "4838cccc",
   "metadata": {},
   "outputs": [
    {
     "data": {
      "text/plain": [
       "False    7697\n",
       "True     1320\n",
       "Name: V_O, dtype: int64"
      ]
     },
     "execution_count": 10,
     "metadata": {},
     "output_type": "execute_result"
    }
   ],
   "source": [
    "v_adol_s['V_O'].value_counts()"
   ]
  },
  {
   "cell_type": "code",
   "execution_count": 11,
   "id": "44acb7f7",
   "metadata": {},
   "outputs": [
    {
     "data": {
      "text/plain": [
       "Positive    8932\n",
       "Negative      85\n",
       "Name: S_O, dtype: int64"
      ]
     },
     "execution_count": 11,
     "metadata": {},
     "output_type": "execute_result"
    }
   ],
   "source": [
    "v_adol_s['S_O'].value_counts()"
   ]
  },
  {
   "cell_type": "code",
   "execution_count": 12,
   "id": "73ff98c2",
   "metadata": {},
   "outputs": [],
   "source": [
    "# 매체 합치기\n",
    "v_adol_s['sort'] = np.nan\n",
    "sort_cols = ['Q9_3_1', 'Q9_3_2', 'Q9_3_3', # 괴롭힘 매체\n",
    "             'Q9_3_4', 'Q9_3_5', 'Q9_3_6', 'Q9_3_7', 'Q9_3_7_etc', ]\n",
    "for i, c in enumerate(sort_cols):\n",
    "    v_adol_s.loc[v_adol_s[c].notnull(), 'sort'] = i + 1\n",
    "v_adol_s.drop(sort_cols, axis=1, inplace=True)\n",
    "    \n",
    "# 괴롭힘 이유 합치기\n",
    "v_adol_s['why'] = np.nan\n",
    "why_cols = ['Q9_4_1', 'Q9_4_2', 'Q9_4_3', 'Q9_4_4', 'Q9_4_5', 'Q9_4_6',]  # 괴롭힘 행동 이유\n",
    "for i, c in enumerate(why_cols):\n",
    "    v_adol_s.loc[v_adol_s[c].notnull(), 'why'] = i + 1\n",
    "v_adol_s.drop(why_cols, axis=1, inplace=True)\n",
    "\n",
    "# # 괴롭힘 이후 생각 합치기\n",
    "# v_adol_s['after'] = np.nan\n",
    "# after_cols = ['Q9_6_1', 'Q9_6_2', 'Q9_6_3', 'Q9_6_4', 'Q9_6_5']  # 괴롭힘 이후 생각\n",
    "# for i, c in enumerate(after_cols):\n",
    "#     v_adol_s.loc[v_adol_s[c].isin([3, 4]) & v_adol_s[], 'after'] = i + 1\n",
    "# v_adol_s.drop(after_cols, axis=1, inplace=True)"
   ]
  },
  {
   "cell_type": "code",
   "execution_count": 13,
   "id": "bb676fc3",
   "metadata": {},
   "outputs": [
    {
     "name": "stdout",
     "output_type": "stream",
     "text": [
      "<class 'pandas.core.frame.DataFrame'>\n",
      "RangeIndex: 9017 entries, 0 to 9016\n",
      "Data columns (total 13 columns):\n",
      " #   Column  Non-Null Count  Dtype  \n",
      "---  ------  --------------  -----  \n",
      " 0   Q1      9017 non-null   int64  \n",
      " 1   Q15     9017 non-null   int64  \n",
      " 2   Q9_1    1236 non-null   float64\n",
      " 3   Q9_2    1236 non-null   float64\n",
      " 4   Q9_6_1  1236 non-null   float64\n",
      " 5   Q9_6_2  1236 non-null   float64\n",
      " 6   Q9_6_3  1236 non-null   float64\n",
      " 7   Q9_6_4  1236 non-null   float64\n",
      " 8   Q9_6_5  1236 non-null   float64\n",
      " 9   V_O     9017 non-null   bool   \n",
      " 10  S_O     9017 non-null   object \n",
      " 11  sort    1236 non-null   float64\n",
      " 12  why     1236 non-null   float64\n",
      "dtypes: bool(1), float64(9), int64(2), object(1)\n",
      "memory usage: 854.3+ KB\n"
     ]
    }
   ],
   "source": [
    "v_adol_s.info()"
   ]
  },
  {
   "cell_type": "markdown",
   "id": "e72a4f1a",
   "metadata": {},
   "source": [
    "### 성인\n",
    "\n",
    "- **기본 사항**\n",
    "<br><br>\n",
    "    - Q1 (최근 1년간 하루 평균 인터넷 이용 시간)\n",
    "        - 1.0: 1시간 미만, 2.0: 1시간 이상 ~ 2시간 미만, 3.0: 2시간 이상 ~ 3시간 미만, 4.0: 3시간 이상 ~ 4시간 미만, 5.0: 4시간 이상 ~ 5시간 미만, 6.0: 5시간 이상\n",
    "<br><br>\n",
    "    - Q13 (최근 1년간 사이버 폭력 예방 및 대응 관련 교육을 들은 적 있는지)\n",
    "        - 1: 있다, 2: 없다\n",
    "<br><br>\n",
    "\n",
    "- **사회적 활동 관련 칼럼**\n",
    "<br><br>\n",
    "    - Q11_1 ~ Q11_3 (친구와의 관계)\n",
    "        - 1.0: 전혀 그렇지 않다, 2.0: 그렇지 않다, 3.0: 그렇다, 4.0: 매우 그렇다\n",
    "        - 1: 내 친구들은 나와 이야기를 나눌 때 서로 생각이 달라도 존중해 준다\n",
    "        - 2: 내 친구들은 내가 말하는 것에 관심을 갖고 들어 준다\n",
    "        - 3: 나는 친구들에게 내 고민과 문제를 솔직하게 털어놓는다\n",
    "<br><br>\n",
    "    - Q12_1 ~ Q12_3 (부모님과의 관계)\n",
    "        - 1.0: 전혀 그렇지 않다, 2.0: 그렇지 않다, 3.0: 그렇다, 4.0: 매우 그렇다\n",
    "        - 1: 내 일은 나 스스로 결정할 수 있게 격려해 주신다\n",
    "        - 2: 내가 학교생활을 어떻게 하는지 관심 있게 물어보신다\n",
    "        - 3: 사소한 것도 여쭤보면 잘 듣고 응답해 주신다\n",
    "<br><br>\n",
    "- **사이버 폭력 관련 칼럼**\n",
    "<br><br>\n",
    "    - Q9_1 ~ Q9_8 (다음과 같은 괴롭힘 행동을 한 적이 있는가?)\n",
    "        - 1.0: 1년에 한 두번, 2.0: 6개월에 한 두번, 3.0: 한 달에 한 두번, 4.0: 일주일에 한 두번, 5.0: 거의 매일, 9.0: 전혀 없음\n",
    "<br><br>\n",
    "    - Q9A (괴롭힌 사람이 누구인가?)\n",
    "        - 1: 연예인, 스포츠선수, 정치인 등 누구나 알고 있는 유명한 사람\n",
    "        - 2: 친한 친구\n",
    "        - 3: 선·후배\n",
    "        - 4: 동료\n",
    "        - 5: 얼굴만 아는 사이\n",
    "        - 6: 온라인을 통해 알게 된 사람\n",
    "        - 7: 전혀 모르는 사람\n",
    "<br><br>\n",
    "    - Q9B (누구와 함께 괴롭혔는가?)\n",
    "        - 1.0: 혼자, 2.0: 둘, 3.0: 셋, 4.0: 넷 이상\n",
    "<br><br>\n",
    "    - Q9C_1 ~ Q9C_7, Q9C_ETC (어떤 매체를 통해 괴롭혔는가?)\n",
    "        - 1.0: 문자 및 인스턴트 메시지(카카오톡, 라인, 페이스북 메신저 등)\n",
    "        - 2.0: 커뮤니티·동호회 (네이버·다음 카페, 클럽 등)\n",
    "        - 3.0: SNS (페이스북, 인스타그램, 블로그, 틱톡 등)\n",
    "        - 4.0: 개인 홈페이지\n",
    "        - 5.0: 이메일\n",
    "        - 6.0: 온라인 게임\n",
    "        - 7.0: 기타\n",
    "<br><br>\n",
    "    - Q9D_1 ~ Q9D_6 (괴롭히는 행동을 한 이유는?)\n",
    "        - 1.0: 재미나 장난으로, 스트레스 해소를 위해\n",
    "        2.0: 주변에서 함께 하므로, 친구들과 어울리기 위해\n",
    "        3.0: 상대방이 먼저 그런 행동을 해서, 보복하기 위해\n",
    "        4.0: 상대방이 싫어서, 상대방에게 화가 나서\n",
    "        5.0: 내 의견과 달라서, 상대방이 틀린 말을 해서\n",
    "        6.0: 그냥 특별한 이유 없이\n",
    "<br><br>\n",
    "    - Q9F_1 ~ Q9F_5 (괴롭히고 나서 어떤 생각이 들었는가?)\n",
    "        - 1: 정당한 행동이라 생각했다\n",
    "        - 2: 상대방에게 미안하고 후회스러웠다\n",
    "        - 3: 문제가 생길까봐 걱정되었다\n",
    "        - 4: 흥미롭고 재미있었다\n",
    "        - 5: 아무런 느낌이 없었다\n",
    "<br><br>\n",
    "    - Q10_1 ~ Q10_12 (다음을 대상으로 조롱/비난 행동을 한 적이 있는가?)\n",
    "        - 1.0: 1년에 한 두번, 2.0: 6개월에 한 두번, 3.0: 한 달에 한 두번, 4.0: 일주일에 한 두번, 5.0: 거의 매일, 9.0: 전혀 없음"
   ]
  },
  {
   "cell_type": "code",
   "execution_count": 14,
   "id": "0e218e45",
   "metadata": {},
   "outputs": [
    {
     "name": "stdout",
     "output_type": "stream",
     "text": [
      "<class 'pandas.core.frame.DataFrame'>\n",
      "Int64Index: 339 entries, 28 to 7421\n",
      "Data columns (total 49 columns):\n",
      " #   Column   Non-Null Count  Dtype  \n",
      "---  ------   --------------  -----  \n",
      " 0   Q1       339 non-null    int64  \n",
      " 1   Q13      339 non-null    int64  \n",
      " 2   Q9_1     339 non-null    int64  \n",
      " 3   Q9_2     339 non-null    int64  \n",
      " 4   Q9_3     339 non-null    int64  \n",
      " 5   Q9_4     339 non-null    int64  \n",
      " 6   Q9_5     339 non-null    int64  \n",
      " 7   Q9_6     339 non-null    int64  \n",
      " 8   Q9_7     339 non-null    int64  \n",
      " 9   Q9_8     339 non-null    int64  \n",
      " 10  Q9C_1    31 non-null     float64\n",
      " 11  Q9C_2    4 non-null      float64\n",
      " 12  Q9C_1    31 non-null     float64\n",
      " 13  Q9C_2    4 non-null      float64\n",
      " 14  Q9C_3    17 non-null     float64\n",
      " 15  Q9C_4    0 non-null      float64\n",
      " 16  Q9C_5    0 non-null      float64\n",
      " 17  Q9C_6    15 non-null     float64\n",
      " 18  Q9C_7    0 non-null      float64\n",
      " 19  Q9C_ETC  0 non-null      object \n",
      " 20  Q9D_1    8 non-null      float64\n",
      " 21  Q9D_2    4 non-null      float64\n",
      " 22  Q9D_3    13 non-null     float64\n",
      " 23  Q9D_4    21 non-null     float64\n",
      " 24  Q9D_5    6 non-null      float64\n",
      " 25  Q9D_6    5 non-null      float64\n",
      " 26  Q9F_1    54 non-null     float64\n",
      " 27  Q9F_2    54 non-null     float64\n",
      " 28  Q9F_3    54 non-null     float64\n",
      " 29  Q9F_4    54 non-null     float64\n",
      " 30  Q9F_5    54 non-null     float64\n",
      " 31  Q10_1    339 non-null    int64  \n",
      " 32  Q10_2    339 non-null    int64  \n",
      " 33  Q10_3    339 non-null    int64  \n",
      " 34  Q10_4    339 non-null    int64  \n",
      " 35  Q10_5    339 non-null    int64  \n",
      " 36  Q10_6    339 non-null    int64  \n",
      " 37  Q10_7    339 non-null    int64  \n",
      " 38  Q10_8    339 non-null    int64  \n",
      " 39  Q10_9    339 non-null    int64  \n",
      " 40  Q10_10   339 non-null    int64  \n",
      " 41  Q10_11   339 non-null    int64  \n",
      " 42  Q10_12   339 non-null    int64  \n",
      " 43  Q11_1    339 non-null    int64  \n",
      " 44  Q11_2    339 non-null    int64  \n",
      " 45  Q11_3    339 non-null    int64  \n",
      " 46  Q12_1    339 non-null    int64  \n",
      " 47  Q12_2    339 non-null    int64  \n",
      " 48  Q12_3    339 non-null    int64  \n",
      "dtypes: float64(20), int64(28), object(1)\n",
      "memory usage: 132.4+ KB\n"
     ]
    }
   ],
   "source": [
    "select_cols_a = ['Q1', 'Q13',     # 기본 정보 칼럼\n",
    "               'Q9_1', 'Q9_2', 'Q9_3', 'Q9_4', 'Q9_5', 'Q9_6', 'Q9_7', 'Q9_8',    # 괴롭힘 여부\n",
    "               'Q9C_1', 'Q9C_2', 'Q9C_1', 'Q9C_2', 'Q9C_3', 'Q9C_4', 'Q9C_5', 'Q9C_6', 'Q9C_7', 'Q9C_ETC', # 괴롭힘 매체\n",
    "               'Q9D_1', 'Q9D_2', 'Q9D_3', 'Q9D_4', 'Q9D_5', 'Q9D_6',  # 괴롭힘 행동 이유\n",
    "               'Q9F_1', 'Q9F_2', 'Q9F_3', 'Q9F_4', 'Q9F_5',  # 괴롭힘 이후 생각\n",
    "               'Q10_1', 'Q10_2', 'Q10_3', 'Q10_4', 'Q10_5', 'Q10_6', 'Q10_7', 'Q10_8',  # 조롱/비난 행동 여부\n",
    "               'Q10_9', 'Q10_10', 'Q10_11', 'Q10_12', \n",
    "               'Q11_1', 'Q11_2', 'Q11_3', 'Q12_1', 'Q12_2', 'Q12_3',    # 사회적 활동 관련 칼럼\n",
    "               ]\n",
    "\n",
    "v_adult_s = v_adult.loc[:, select_cols_a]\n",
    "v_adult_s.info()"
   ]
  },
  {
   "cell_type": "markdown",
   "id": "284ac1d6",
   "metadata": {},
   "source": [
    "### 사회적 활동이 적은 청소년 → 사이버 폭력 연관성\n",
    "\n",
    "- 필요 칼럼\n",
    "    - 사회적 활동 관련\n",
    "    - 사이버 폭력"
   ]
  },
  {
   "cell_type": "code",
   "execution_count": 15,
   "id": "e51bbce2",
   "metadata": {},
   "outputs": [
    {
     "name": "stdout",
     "output_type": "stream",
     "text": [
      "교차표\n",
      "\n"
     ]
    },
    {
     "data": {
      "text/html": [
       "<div>\n",
       "<style scoped>\n",
       "    .dataframe tbody tr th:only-of-type {\n",
       "        vertical-align: middle;\n",
       "    }\n",
       "\n",
       "    .dataframe tbody tr th {\n",
       "        vertical-align: top;\n",
       "    }\n",
       "\n",
       "    .dataframe thead th {\n",
       "        text-align: right;\n",
       "    }\n",
       "</style>\n",
       "<table border=\"1\" class=\"dataframe\">\n",
       "  <thead>\n",
       "    <tr style=\"text-align: right;\">\n",
       "      <th>S_O</th>\n",
       "      <th>Negative</th>\n",
       "      <th>Positive</th>\n",
       "    </tr>\n",
       "    <tr>\n",
       "      <th>V_O</th>\n",
       "      <th></th>\n",
       "      <th></th>\n",
       "    </tr>\n",
       "  </thead>\n",
       "  <tbody>\n",
       "    <tr>\n",
       "      <th>False</th>\n",
       "      <td>46</td>\n",
       "      <td>7651</td>\n",
       "    </tr>\n",
       "    <tr>\n",
       "      <th>True</th>\n",
       "      <td>39</td>\n",
       "      <td>1281</td>\n",
       "    </tr>\n",
       "  </tbody>\n",
       "</table>\n",
       "</div>"
      ],
      "text/plain": [
       "S_O    Negative  Positive\n",
       "V_O                      \n",
       "False        46      7651\n",
       "True         39      1281"
      ]
     },
     "metadata": {},
     "output_type": "display_data"
    },
    {
     "data": {
      "text/html": [
       "<div>\n",
       "<style scoped>\n",
       "    .dataframe tbody tr th:only-of-type {\n",
       "        vertical-align: middle;\n",
       "    }\n",
       "\n",
       "    .dataframe tbody tr th {\n",
       "        vertical-align: top;\n",
       "    }\n",
       "\n",
       "    .dataframe thead th {\n",
       "        text-align: right;\n",
       "    }\n",
       "</style>\n",
       "<table border=\"1\" class=\"dataframe\">\n",
       "  <thead>\n",
       "    <tr style=\"text-align: right;\">\n",
       "      <th>S_O</th>\n",
       "      <th>Negative</th>\n",
       "      <th>Positive</th>\n",
       "    </tr>\n",
       "    <tr>\n",
       "      <th>V_O</th>\n",
       "      <th></th>\n",
       "      <th></th>\n",
       "    </tr>\n",
       "  </thead>\n",
       "  <tbody>\n",
       "    <tr>\n",
       "      <th>False</th>\n",
       "      <td>0.541176</td>\n",
       "      <td>0.856583</td>\n",
       "    </tr>\n",
       "    <tr>\n",
       "      <th>True</th>\n",
       "      <td>0.458824</td>\n",
       "      <td>0.143417</td>\n",
       "    </tr>\n",
       "  </tbody>\n",
       "</table>\n",
       "</div>"
      ],
      "text/plain": [
       "S_O    Negative  Positive\n",
       "V_O                      \n",
       "False  0.541176  0.856583\n",
       "True   0.458824  0.143417"
      ]
     },
     "metadata": {},
     "output_type": "display_data"
    },
    {
     "name": "stdout",
     "output_type": "stream",
     "text": [
      "----------------------------------------------------------------------------------------------------\n",
      "카이제곱통계량 64.53072530222089\n",
      "p-value 9.503870882159187e-16\n",
      "자유도 1\n",
      "기대빈도\n",
      " [[  72.55683709 7624.44316291]\n",
      " [  12.44316291 1307.55683709]]\n"
     ]
    },
    {
     "data": {
      "image/png": "[encoded data removed]",
      "text/plain": [
       "<Figure size 640x480 with 3 Axes>"
      ]
     },
     "metadata": {},
     "output_type": "display_data"
    },
    {
     "data": {
      "text/html": [
       "<div>\n",
       "<style scoped>\n",
       "    .dataframe tbody tr th:only-of-type {\n",
       "        vertical-align: middle;\n",
       "    }\n",
       "\n",
       "    .dataframe tbody tr th {\n",
       "        vertical-align: top;\n",
       "    }\n",
       "\n",
       "    .dataframe thead th {\n",
       "        text-align: right;\n",
       "    }\n",
       "</style>\n",
       "<table border=\"1\" class=\"dataframe\">\n",
       "  <thead>\n",
       "    <tr style=\"text-align: right;\">\n",
       "      <th>V_O</th>\n",
       "      <th>False</th>\n",
       "      <th>True</th>\n",
       "    </tr>\n",
       "    <tr>\n",
       "      <th>S_O</th>\n",
       "      <th></th>\n",
       "      <th></th>\n",
       "    </tr>\n",
       "  </thead>\n",
       "  <tbody>\n",
       "    <tr>\n",
       "      <th>Negative</th>\n",
       "      <td>0.541176</td>\n",
       "      <td>0.458824</td>\n",
       "    </tr>\n",
       "    <tr>\n",
       "      <th>Positive</th>\n",
       "      <td>0.856583</td>\n",
       "      <td>0.143417</td>\n",
       "    </tr>\n",
       "  </tbody>\n",
       "</table>\n",
       "</div>"
      ],
      "text/plain": [
       "V_O          False      True\n",
       "S_O                         \n",
       "Negative  0.541176  0.458824\n",
       "Positive  0.856583  0.143417"
      ]
     },
     "metadata": {},
     "output_type": "display_data"
    },
    {
     "data": {
      "image/png": "[encoded data removed]",
      "text/plain": [
       "<Figure size 640x480 with 1 Axes>"
      ]
     },
     "metadata": {},
     "output_type": "display_data"
    }
   ],
   "source": [
    "eda2_cc(v_adol_s, 'S_O', 'V_O')"
   ]
  },
  {
   "cell_type": "code",
   "execution_count": null,
   "id": "2cdc9bb2",
   "metadata": {},
   "outputs": [],
   "source": []
  },
  {
   "cell_type": "markdown",
   "id": "e2d46258",
   "metadata": {},
   "source": [
    "### 스마트폰/인터넷 중독 → 사이버 폭력 연관성"
   ]
  },
  {
   "cell_type": "code",
   "execution_count": 16,
   "id": "26271bb9",
   "metadata": {},
   "outputs": [
    {
     "name": "stdout",
     "output_type": "stream",
     "text": [
      "교차표\n",
      "\n"
     ]
    },
    {
     "data": {
      "text/html": [
       "<div>\n",
       "<style scoped>\n",
       "    .dataframe tbody tr th:only-of-type {\n",
       "        vertical-align: middle;\n",
       "    }\n",
       "\n",
       "    .dataframe tbody tr th {\n",
       "        vertical-align: top;\n",
       "    }\n",
       "\n",
       "    .dataframe thead th {\n",
       "        text-align: right;\n",
       "    }\n",
       "</style>\n",
       "<table border=\"1\" class=\"dataframe\">\n",
       "  <thead>\n",
       "    <tr style=\"text-align: right;\">\n",
       "      <th>Q1</th>\n",
       "      <th>1</th>\n",
       "      <th>2</th>\n",
       "      <th>3</th>\n",
       "      <th>4</th>\n",
       "      <th>5</th>\n",
       "      <th>6</th>\n",
       "    </tr>\n",
       "    <tr>\n",
       "      <th>V_O</th>\n",
       "      <th></th>\n",
       "      <th></th>\n",
       "      <th></th>\n",
       "      <th></th>\n",
       "      <th></th>\n",
       "      <th></th>\n",
       "    </tr>\n",
       "  </thead>\n",
       "  <tbody>\n",
       "    <tr>\n",
       "      <th>False</th>\n",
       "      <td>649</td>\n",
       "      <td>1866</td>\n",
       "      <td>2043</td>\n",
       "      <td>1287</td>\n",
       "      <td>692</td>\n",
       "      <td>1160</td>\n",
       "    </tr>\n",
       "    <tr>\n",
       "      <th>True</th>\n",
       "      <td>80</td>\n",
       "      <td>377</td>\n",
       "      <td>332</td>\n",
       "      <td>211</td>\n",
       "      <td>126</td>\n",
       "      <td>194</td>\n",
       "    </tr>\n",
       "  </tbody>\n",
       "</table>\n",
       "</div>"
      ],
      "text/plain": [
       "Q1       1     2     3     4    5     6\n",
       "V_O                                    \n",
       "False  649  1866  2043  1287  692  1160\n",
       "True    80   377   332   211  126   194"
      ]
     },
     "metadata": {},
     "output_type": "display_data"
    },
    {
     "data": {
      "text/html": [
       "<div>\n",
       "<style scoped>\n",
       "    .dataframe tbody tr th:only-of-type {\n",
       "        vertical-align: middle;\n",
       "    }\n",
       "\n",
       "    .dataframe tbody tr th {\n",
       "        vertical-align: top;\n",
       "    }\n",
       "\n",
       "    .dataframe thead th {\n",
       "        text-align: right;\n",
       "    }\n",
       "</style>\n",
       "<table border=\"1\" class=\"dataframe\">\n",
       "  <thead>\n",
       "    <tr style=\"text-align: right;\">\n",
       "      <th>Q1</th>\n",
       "      <th>1</th>\n",
       "      <th>2</th>\n",
       "      <th>3</th>\n",
       "      <th>4</th>\n",
       "      <th>5</th>\n",
       "      <th>6</th>\n",
       "    </tr>\n",
       "    <tr>\n",
       "      <th>V_O</th>\n",
       "      <th></th>\n",
       "      <th></th>\n",
       "      <th></th>\n",
       "      <th></th>\n",
       "      <th></th>\n",
       "      <th></th>\n",
       "    </tr>\n",
       "  </thead>\n",
       "  <tbody>\n",
       "    <tr>\n",
       "      <th>False</th>\n",
       "      <td>0.890261</td>\n",
       "      <td>0.831922</td>\n",
       "      <td>0.860211</td>\n",
       "      <td>0.859146</td>\n",
       "      <td>0.845966</td>\n",
       "      <td>0.856721</td>\n",
       "    </tr>\n",
       "    <tr>\n",
       "      <th>True</th>\n",
       "      <td>0.109739</td>\n",
       "      <td>0.168078</td>\n",
       "      <td>0.139789</td>\n",
       "      <td>0.140854</td>\n",
       "      <td>0.154034</td>\n",
       "      <td>0.143279</td>\n",
       "    </tr>\n",
       "  </tbody>\n",
       "</table>\n",
       "</div>"
      ],
      "text/plain": [
       "Q1            1         2         3         4         5         6\n",
       "V_O                                                              \n",
       "False  0.890261  0.831922  0.860211  0.859146  0.845966  0.856721\n",
       "True   0.109739  0.168078  0.139789  0.140854  0.154034  0.143279"
      ]
     },
     "metadata": {},
     "output_type": "display_data"
    },
    {
     "name": "stdout",
     "output_type": "stream",
     "text": [
      "----------------------------------------------------------------------------------------------------\n",
      "카이제곱통계량 17.962555184351498\n",
      "p-value 0.002993701282837341\n",
      "자유도 5\n",
      "기대빈도\n",
      " [[ 622.28157924 1914.64688921 2027.32338915 1278.7075524   698.25285572\n",
      "  1155.78773428]\n",
      " [ 106.71842076  328.35311079  347.67661085  219.2924476   119.74714428\n",
      "   198.21226572]]\n"
     ]
    },
    {
     "data": {
      "image/png": "[encoded data removed]",
      "text/plain": [
       "<Figure size 640x480 with 3 Axes>"
      ]
     },
     "metadata": {},
     "output_type": "display_data"
    },
    {
     "data": {
      "text/html": [
       "<div>\n",
       "<style scoped>\n",
       "    .dataframe tbody tr th:only-of-type {\n",
       "        vertical-align: middle;\n",
       "    }\n",
       "\n",
       "    .dataframe tbody tr th {\n",
       "        vertical-align: top;\n",
       "    }\n",
       "\n",
       "    .dataframe thead th {\n",
       "        text-align: right;\n",
       "    }\n",
       "</style>\n",
       "<table border=\"1\" class=\"dataframe\">\n",
       "  <thead>\n",
       "    <tr style=\"text-align: right;\">\n",
       "      <th>V_O</th>\n",
       "      <th>False</th>\n",
       "      <th>True</th>\n",
       "    </tr>\n",
       "    <tr>\n",
       "      <th>Q1</th>\n",
       "      <th></th>\n",
       "      <th></th>\n",
       "    </tr>\n",
       "  </thead>\n",
       "  <tbody>\n",
       "    <tr>\n",
       "      <th>1</th>\n",
       "      <td>0.890261</td>\n",
       "      <td>0.109739</td>\n",
       "    </tr>\n",
       "    <tr>\n",
       "      <th>2</th>\n",
       "      <td>0.831922</td>\n",
       "      <td>0.168078</td>\n",
       "    </tr>\n",
       "    <tr>\n",
       "      <th>3</th>\n",
       "      <td>0.860211</td>\n",
       "      <td>0.139789</td>\n",
       "    </tr>\n",
       "    <tr>\n",
       "      <th>4</th>\n",
       "      <td>0.859146</td>\n",
       "      <td>0.140854</td>\n",
       "    </tr>\n",
       "    <tr>\n",
       "      <th>5</th>\n",
       "      <td>0.845966</td>\n",
       "      <td>0.154034</td>\n",
       "    </tr>\n",
       "    <tr>\n",
       "      <th>6</th>\n",
       "      <td>0.856721</td>\n",
       "      <td>0.143279</td>\n",
       "    </tr>\n",
       "  </tbody>\n",
       "</table>\n",
       "</div>"
      ],
      "text/plain": [
       "V_O     False      True\n",
       "Q1                     \n",
       "1    0.890261  0.109739\n",
       "2    0.831922  0.168078\n",
       "3    0.860211  0.139789\n",
       "4    0.859146  0.140854\n",
       "5    0.845966  0.154034\n",
       "6    0.856721  0.143279"
      ]
     },
     "metadata": {},
     "output_type": "display_data"
    },
    {
     "data": {
      "image/png": "[encoded data removed]",
      "text/plain": [
       "<Figure size 640x480 with 1 Axes>"
      ]
     },
     "metadata": {},
     "output_type": "display_data"
    }
   ],
   "source": [
    "# 인터넷 사용 시간 (숫자 커질 수록 이용 시간 ↑)\n",
    "eda2_cc(v_adol_s, 'Q1', 'V_O')"
   ]
  },
  {
   "cell_type": "code",
   "execution_count": 17,
   "id": "d136ce6b",
   "metadata": {},
   "outputs": [
    {
     "name": "stdout",
     "output_type": "stream",
     "text": [
      "교차표\n",
      "\n"
     ]
    },
    {
     "data": {
      "text/html": [
       "<div>\n",
       "<style scoped>\n",
       "    .dataframe tbody tr th:only-of-type {\n",
       "        vertical-align: middle;\n",
       "    }\n",
       "\n",
       "    .dataframe tbody tr th {\n",
       "        vertical-align: top;\n",
       "    }\n",
       "\n",
       "    .dataframe thead th {\n",
       "        text-align: right;\n",
       "    }\n",
       "</style>\n",
       "<table border=\"1\" class=\"dataframe\">\n",
       "  <thead>\n",
       "    <tr style=\"text-align: right;\">\n",
       "      <th>Q15</th>\n",
       "      <th>1</th>\n",
       "      <th>2</th>\n",
       "    </tr>\n",
       "    <tr>\n",
       "      <th>V_O</th>\n",
       "      <th></th>\n",
       "      <th></th>\n",
       "    </tr>\n",
       "  </thead>\n",
       "  <tbody>\n",
       "    <tr>\n",
       "      <th>False</th>\n",
       "      <td>6959</td>\n",
       "      <td>738</td>\n",
       "    </tr>\n",
       "    <tr>\n",
       "      <th>True</th>\n",
       "      <td>1143</td>\n",
       "      <td>177</td>\n",
       "    </tr>\n",
       "  </tbody>\n",
       "</table>\n",
       "</div>"
      ],
      "text/plain": [
       "Q15       1    2\n",
       "V_O             \n",
       "False  6959  738\n",
       "True   1143  177"
      ]
     },
     "metadata": {},
     "output_type": "display_data"
    },
    {
     "data": {
      "text/html": [
       "<div>\n",
       "<style scoped>\n",
       "    .dataframe tbody tr th:only-of-type {\n",
       "        vertical-align: middle;\n",
       "    }\n",
       "\n",
       "    .dataframe tbody tr th {\n",
       "        vertical-align: top;\n",
       "    }\n",
       "\n",
       "    .dataframe thead th {\n",
       "        text-align: right;\n",
       "    }\n",
       "</style>\n",
       "<table border=\"1\" class=\"dataframe\">\n",
       "  <thead>\n",
       "    <tr style=\"text-align: right;\">\n",
       "      <th>Q15</th>\n",
       "      <th>1</th>\n",
       "      <th>2</th>\n",
       "    </tr>\n",
       "    <tr>\n",
       "      <th>V_O</th>\n",
       "      <th></th>\n",
       "      <th></th>\n",
       "    </tr>\n",
       "  </thead>\n",
       "  <tbody>\n",
       "    <tr>\n",
       "      <th>False</th>\n",
       "      <td>0.858924</td>\n",
       "      <td>0.806557</td>\n",
       "    </tr>\n",
       "    <tr>\n",
       "      <th>True</th>\n",
       "      <td>0.141076</td>\n",
       "      <td>0.193443</td>\n",
       "    </tr>\n",
       "  </tbody>\n",
       "</table>\n",
       "</div>"
      ],
      "text/plain": [
       "Q15           1         2\n",
       "V_O                      \n",
       "False  0.858924  0.806557\n",
       "True   0.141076  0.193443"
      ]
     },
     "metadata": {},
     "output_type": "display_data"
    },
    {
     "name": "stdout",
     "output_type": "stream",
     "text": [
      "----------------------------------------------------------------------------------------------------\n",
      "카이제곱통계량 17.625362150232696\n",
      "p-value 2.689772298691758e-05\n",
      "자유도 1\n",
      "기대빈도\n",
      " [[6915.94698902  781.05301098]\n",
      " [1186.05301098  133.94698902]]\n"
     ]
    },
    {
     "data": {
      "image/png": "[encoded data removed]",
      "text/plain": [
       "<Figure size 640x480 with 3 Axes>"
      ]
     },
     "metadata": {},
     "output_type": "display_data"
    },
    {
     "data": {
      "text/html": [
       "<div>\n",
       "<style scoped>\n",
       "    .dataframe tbody tr th:only-of-type {\n",
       "        vertical-align: middle;\n",
       "    }\n",
       "\n",
       "    .dataframe tbody tr th {\n",
       "        vertical-align: top;\n",
       "    }\n",
       "\n",
       "    .dataframe thead th {\n",
       "        text-align: right;\n",
       "    }\n",
       "</style>\n",
       "<table border=\"1\" class=\"dataframe\">\n",
       "  <thead>\n",
       "    <tr style=\"text-align: right;\">\n",
       "      <th>V_O</th>\n",
       "      <th>False</th>\n",
       "      <th>True</th>\n",
       "    </tr>\n",
       "    <tr>\n",
       "      <th>Q15</th>\n",
       "      <th></th>\n",
       "      <th></th>\n",
       "    </tr>\n",
       "  </thead>\n",
       "  <tbody>\n",
       "    <tr>\n",
       "      <th>1</th>\n",
       "      <td>0.858924</td>\n",
       "      <td>0.141076</td>\n",
       "    </tr>\n",
       "    <tr>\n",
       "      <th>2</th>\n",
       "      <td>0.806557</td>\n",
       "      <td>0.193443</td>\n",
       "    </tr>\n",
       "  </tbody>\n",
       "</table>\n",
       "</div>"
      ],
      "text/plain": [
       "V_O     False      True\n",
       "Q15                    \n",
       "1    0.858924  0.141076\n",
       "2    0.806557  0.193443"
      ]
     },
     "metadata": {},
     "output_type": "display_data"
    },
    {
     "data": {
      "image/png": "[encoded data removed]",
      "text/plain": [
       "<Figure size 640x480 with 1 Axes>"
      ]
     },
     "metadata": {},
     "output_type": "display_data"
    }
   ],
   "source": [
    "# 사이버 폭력 관련 교육 이수 여부 (1: 있다)\n",
    "eda2_cc(v_adol_s, 'Q15', 'V_O')"
   ]
  },
  {
   "cell_type": "markdown",
   "id": "71680351",
   "metadata": {},
   "source": [
    "### 기타 분석"
   ]
  },
  {
   "cell_type": "markdown",
   "id": "fe051293",
   "metadata": {},
   "source": [
    "##### 괴롭힘 매체 종류\n",
    "- 1.0: 문자 및 인스턴트 메시지(카카오톡, 라인, 페이스북 메신저 등)\n",
    "- 2.0: 커뮤니티·동호회 (네이버·다음 카페, 클럽 등)\n",
    "- 3.0: SNS (페이스북, 인스타그램, 블로그, 틱톡 등)\n",
    "- 4.0: 개인 홈페이지\n",
    "- 5.0: 이메일\n",
    "- 6.0: 온라인 게임\n",
    "- 7.0: 기타"
   ]
  },
  {
   "cell_type": "code",
   "execution_count": 18,
   "id": "f25696ce",
   "metadata": {},
   "outputs": [
    {
     "name": "stdout",
     "output_type": "stream",
     "text": [
      "교차표\n",
      "\n"
     ]
    },
    {
     "data": {
      "text/html": [
       "<div>\n",
       "<style scoped>\n",
       "    .dataframe tbody tr th:only-of-type {\n",
       "        vertical-align: middle;\n",
       "    }\n",
       "\n",
       "    .dataframe tbody tr th {\n",
       "        vertical-align: top;\n",
       "    }\n",
       "\n",
       "    .dataframe thead th {\n",
       "        text-align: right;\n",
       "    }\n",
       "</style>\n",
       "<table border=\"1\" class=\"dataframe\">\n",
       "  <thead>\n",
       "    <tr style=\"text-align: right;\">\n",
       "      <th>sort</th>\n",
       "      <th>1.0</th>\n",
       "      <th>2.0</th>\n",
       "      <th>3.0</th>\n",
       "      <th>4.0</th>\n",
       "      <th>5.0</th>\n",
       "      <th>6.0</th>\n",
       "      <th>7.0</th>\n",
       "      <th>8.0</th>\n",
       "    </tr>\n",
       "    <tr>\n",
       "      <th>V_O</th>\n",
       "      <th></th>\n",
       "      <th></th>\n",
       "      <th></th>\n",
       "      <th></th>\n",
       "      <th></th>\n",
       "      <th></th>\n",
       "      <th></th>\n",
       "      <th></th>\n",
       "    </tr>\n",
       "  </thead>\n",
       "  <tbody>\n",
       "    <tr>\n",
       "      <th>False</th>\n",
       "      <td>339</td>\n",
       "      <td>18</td>\n",
       "      <td>189</td>\n",
       "      <td>11</td>\n",
       "      <td>3</td>\n",
       "      <td>145</td>\n",
       "      <td>0</td>\n",
       "      <td>10</td>\n",
       "    </tr>\n",
       "    <tr>\n",
       "      <th>True</th>\n",
       "      <td>129</td>\n",
       "      <td>42</td>\n",
       "      <td>145</td>\n",
       "      <td>33</td>\n",
       "      <td>27</td>\n",
       "      <td>131</td>\n",
       "      <td>1</td>\n",
       "      <td>13</td>\n",
       "    </tr>\n",
       "  </tbody>\n",
       "</table>\n",
       "</div>"
      ],
      "text/plain": [
       "sort   1.0  2.0  3.0  4.0  5.0  6.0  7.0  8.0\n",
       "V_O                                          \n",
       "False  339   18  189   11    3  145    0   10\n",
       "True   129   42  145   33   27  131    1   13"
      ]
     },
     "metadata": {},
     "output_type": "display_data"
    },
    {
     "data": {
      "text/html": [
       "<div>\n",
       "<style scoped>\n",
       "    .dataframe tbody tr th:only-of-type {\n",
       "        vertical-align: middle;\n",
       "    }\n",
       "\n",
       "    .dataframe tbody tr th {\n",
       "        vertical-align: top;\n",
       "    }\n",
       "\n",
       "    .dataframe thead th {\n",
       "        text-align: right;\n",
       "    }\n",
       "</style>\n",
       "<table border=\"1\" class=\"dataframe\">\n",
       "  <thead>\n",
       "    <tr style=\"text-align: right;\">\n",
       "      <th>sort</th>\n",
       "      <th>1.0</th>\n",
       "      <th>2.0</th>\n",
       "      <th>3.0</th>\n",
       "      <th>4.0</th>\n",
       "      <th>5.0</th>\n",
       "      <th>6.0</th>\n",
       "      <th>7.0</th>\n",
       "      <th>8.0</th>\n",
       "    </tr>\n",
       "    <tr>\n",
       "      <th>V_O</th>\n",
       "      <th></th>\n",
       "      <th></th>\n",
       "      <th></th>\n",
       "      <th></th>\n",
       "      <th></th>\n",
       "      <th></th>\n",
       "      <th></th>\n",
       "      <th></th>\n",
       "    </tr>\n",
       "  </thead>\n",
       "  <tbody>\n",
       "    <tr>\n",
       "      <th>False</th>\n",
       "      <td>0.724359</td>\n",
       "      <td>0.3</td>\n",
       "      <td>0.565868</td>\n",
       "      <td>0.25</td>\n",
       "      <td>0.1</td>\n",
       "      <td>0.525362</td>\n",
       "      <td>0.0</td>\n",
       "      <td>0.434783</td>\n",
       "    </tr>\n",
       "    <tr>\n",
       "      <th>True</th>\n",
       "      <td>0.275641</td>\n",
       "      <td>0.7</td>\n",
       "      <td>0.434132</td>\n",
       "      <td>0.75</td>\n",
       "      <td>0.9</td>\n",
       "      <td>0.474638</td>\n",
       "      <td>1.0</td>\n",
       "      <td>0.565217</td>\n",
       "    </tr>\n",
       "  </tbody>\n",
       "</table>\n",
       "</div>"
      ],
      "text/plain": [
       "sort        1.0  2.0       3.0   4.0  5.0       6.0  7.0       8.0\n",
       "V_O                                                               \n",
       "False  0.724359  0.3  0.565868  0.25  0.1  0.525362  0.0  0.434783\n",
       "True   0.275641  0.7  0.434132  0.75  0.9  0.474638  1.0  0.565217"
      ]
     },
     "metadata": {},
     "output_type": "display_data"
    },
    {
     "name": "stdout",
     "output_type": "stream",
     "text": [
      "----------------------------------------------------------------------------------------------------\n",
      "카이제곱통계량 114.2945235458971\n",
      "p-value 1.1782804097966455e-21\n",
      "자유도 7\n",
      "기대빈도\n",
      " [[270.72815534  34.70873786 193.21197411  25.45307443  17.35436893\n",
      "  159.66019417   0.57847896  13.30501618]\n",
      " [197.27184466  25.29126214 140.78802589  18.54692557  12.64563107\n",
      "  116.33980583   0.42152104   9.69498382]]\n"
     ]
    },
    {
     "data": {
      "image/png": "[encoded data removed]",
      "text/plain": [
       "<Figure size 640x480 with 3 Axes>"
      ]
     },
     "metadata": {},
     "output_type": "display_data"
    },
    {
     "data": {
      "text/html": [
       "<div>\n",
       "<style scoped>\n",
       "    .dataframe tbody tr th:only-of-type {\n",
       "        vertical-align: middle;\n",
       "    }\n",
       "\n",
       "    .dataframe tbody tr th {\n",
       "        vertical-align: top;\n",
       "    }\n",
       "\n",
       "    .dataframe thead th {\n",
       "        text-align: right;\n",
       "    }\n",
       "</style>\n",
       "<table border=\"1\" class=\"dataframe\">\n",
       "  <thead>\n",
       "    <tr style=\"text-align: right;\">\n",
       "      <th>V_O</th>\n",
       "      <th>False</th>\n",
       "      <th>True</th>\n",
       "    </tr>\n",
       "    <tr>\n",
       "      <th>sort</th>\n",
       "      <th></th>\n",
       "      <th></th>\n",
       "    </tr>\n",
       "  </thead>\n",
       "  <tbody>\n",
       "    <tr>\n",
       "      <th>1.0</th>\n",
       "      <td>0.724359</td>\n",
       "      <td>0.275641</td>\n",
       "    </tr>\n",
       "    <tr>\n",
       "      <th>2.0</th>\n",
       "      <td>0.300000</td>\n",
       "      <td>0.700000</td>\n",
       "    </tr>\n",
       "    <tr>\n",
       "      <th>3.0</th>\n",
       "      <td>0.565868</td>\n",
       "      <td>0.434132</td>\n",
       "    </tr>\n",
       "    <tr>\n",
       "      <th>4.0</th>\n",
       "      <td>0.250000</td>\n",
       "      <td>0.750000</td>\n",
       "    </tr>\n",
       "    <tr>\n",
       "      <th>5.0</th>\n",
       "      <td>0.100000</td>\n",
       "      <td>0.900000</td>\n",
       "    </tr>\n",
       "    <tr>\n",
       "      <th>6.0</th>\n",
       "      <td>0.525362</td>\n",
       "      <td>0.474638</td>\n",
       "    </tr>\n",
       "    <tr>\n",
       "      <th>7.0</th>\n",
       "      <td>0.000000</td>\n",
       "      <td>1.000000</td>\n",
       "    </tr>\n",
       "    <tr>\n",
       "      <th>8.0</th>\n",
       "      <td>0.434783</td>\n",
       "      <td>0.565217</td>\n",
       "    </tr>\n",
       "  </tbody>\n",
       "</table>\n",
       "</div>"
      ],
      "text/plain": [
       "V_O      False      True\n",
       "sort                    \n",
       "1.0   0.724359  0.275641\n",
       "2.0   0.300000  0.700000\n",
       "3.0   0.565868  0.434132\n",
       "4.0   0.250000  0.750000\n",
       "5.0   0.100000  0.900000\n",
       "6.0   0.525362  0.474638\n",
       "7.0   0.000000  1.000000\n",
       "8.0   0.434783  0.565217"
      ]
     },
     "metadata": {},
     "output_type": "display_data"
    },
    {
     "data": {
      "image/png": "[encoded data removed]",
      "text/plain": [
       "<Figure size 640x480 with 1 Axes>"
      ]
     },
     "metadata": {},
     "output_type": "display_data"
    }
   ],
   "source": [
    "eda2_cc(v_adol_s, 'sort', 'V_O')"
   ]
  },
  {
   "cell_type": "code",
   "execution_count": 19,
   "id": "8e83fd0d",
   "metadata": {},
   "outputs": [
    {
     "data": {
      "text/plain": [
       "<AxesSubplot:>"
      ]
     },
     "execution_count": 19,
     "metadata": {},
     "output_type": "execute_result"
    },
    {
     "data": {
      "image/png": "[encoded data removed]",
      "text/plain": [
       "<Figure size 640x480 with 1 Axes>"
      ]
     },
     "metadata": {},
     "output_type": "display_data"
    }
   ],
   "source": [
    "v_adol_s['sort'].value_counts().plot(kind='bar')"
   ]
  },
  {
   "cell_type": "markdown",
   "id": "aaada659",
   "metadata": {},
   "source": [
    "##### Q9_1 (괴롭힌 사람이 누구인가?)\n",
    "- 1: 아는 사람\n",
    "- 2: 모르는 사람"
   ]
  },
  {
   "cell_type": "code",
   "execution_count": 20,
   "id": "d03b20f4",
   "metadata": {},
   "outputs": [
    {
     "data": {
      "text/plain": [
       "<AxesSubplot:>"
      ]
     },
     "execution_count": 20,
     "metadata": {},
     "output_type": "execute_result"
    },
    {
     "data": {
      "image/png": "[encoded data removed]",
      "text/plain": [
       "<Figure size 640x480 with 1 Axes>"
      ]
     },
     "metadata": {},
     "output_type": "display_data"
    }
   ],
   "source": [
    "v_adol_s['Q9_1'].value_counts().plot(kind='bar')"
   ]
  },
  {
   "cell_type": "code",
   "execution_count": 21,
   "id": "699e16f1",
   "metadata": {},
   "outputs": [
    {
     "name": "stdout",
     "output_type": "stream",
     "text": [
      "교차표\n",
      "\n"
     ]
    },
    {
     "data": {
      "text/html": [
       "<div>\n",
       "<style scoped>\n",
       "    .dataframe tbody tr th:only-of-type {\n",
       "        vertical-align: middle;\n",
       "    }\n",
       "\n",
       "    .dataframe tbody tr th {\n",
       "        vertical-align: top;\n",
       "    }\n",
       "\n",
       "    .dataframe thead th {\n",
       "        text-align: right;\n",
       "    }\n",
       "</style>\n",
       "<table border=\"1\" class=\"dataframe\">\n",
       "  <thead>\n",
       "    <tr style=\"text-align: right;\">\n",
       "      <th>Q9_1</th>\n",
       "      <th>1.0</th>\n",
       "      <th>2.0</th>\n",
       "    </tr>\n",
       "    <tr>\n",
       "      <th>V_O</th>\n",
       "      <th></th>\n",
       "      <th></th>\n",
       "    </tr>\n",
       "  </thead>\n",
       "  <tbody>\n",
       "    <tr>\n",
       "      <th>False</th>\n",
       "      <td>454</td>\n",
       "      <td>261</td>\n",
       "    </tr>\n",
       "    <tr>\n",
       "      <th>True</th>\n",
       "      <td>283</td>\n",
       "      <td>238</td>\n",
       "    </tr>\n",
       "  </tbody>\n",
       "</table>\n",
       "</div>"
      ],
      "text/plain": [
       "Q9_1   1.0  2.0\n",
       "V_O            \n",
       "False  454  261\n",
       "True   283  238"
      ]
     },
     "metadata": {},
     "output_type": "display_data"
    },
    {
     "data": {
      "text/html": [
       "<div>\n",
       "<style scoped>\n",
       "    .dataframe tbody tr th:only-of-type {\n",
       "        vertical-align: middle;\n",
       "    }\n",
       "\n",
       "    .dataframe tbody tr th {\n",
       "        vertical-align: top;\n",
       "    }\n",
       "\n",
       "    .dataframe thead th {\n",
       "        text-align: right;\n",
       "    }\n",
       "</style>\n",
       "<table border=\"1\" class=\"dataframe\">\n",
       "  <thead>\n",
       "    <tr style=\"text-align: right;\">\n",
       "      <th>Q9_1</th>\n",
       "      <th>1.0</th>\n",
       "      <th>2.0</th>\n",
       "    </tr>\n",
       "    <tr>\n",
       "      <th>V_O</th>\n",
       "      <th></th>\n",
       "      <th></th>\n",
       "    </tr>\n",
       "  </thead>\n",
       "  <tbody>\n",
       "    <tr>\n",
       "      <th>False</th>\n",
       "      <td>0.616011</td>\n",
       "      <td>0.523046</td>\n",
       "    </tr>\n",
       "    <tr>\n",
       "      <th>True</th>\n",
       "      <td>0.383989</td>\n",
       "      <td>0.476954</td>\n",
       "    </tr>\n",
       "  </tbody>\n",
       "</table>\n",
       "</div>"
      ],
      "text/plain": [
       "Q9_1        1.0       2.0\n",
       "V_O                      \n",
       "False  0.616011  0.523046\n",
       "True   0.383989  0.476954"
      ]
     },
     "metadata": {},
     "output_type": "display_data"
    },
    {
     "name": "stdout",
     "output_type": "stream",
     "text": [
      "----------------------------------------------------------------------------------------------------\n",
      "카이제곱통계량 10.16799275841759\n",
      "p-value 0.0014289976490148538\n",
      "자유도 1\n",
      "기대빈도\n",
      " [[426.33899676 288.66100324]\n",
      " [310.66100324 210.33899676]]\n"
     ]
    },
    {
     "data": {
      "image/png": "[encoded data removed]",
      "text/plain": [
       "<Figure size 640x480 with 3 Axes>"
      ]
     },
     "metadata": {},
     "output_type": "display_data"
    },
    {
     "data": {
      "text/html": [
       "<div>\n",
       "<style scoped>\n",
       "    .dataframe tbody tr th:only-of-type {\n",
       "        vertical-align: middle;\n",
       "    }\n",
       "\n",
       "    .dataframe tbody tr th {\n",
       "        vertical-align: top;\n",
       "    }\n",
       "\n",
       "    .dataframe thead th {\n",
       "        text-align: right;\n",
       "    }\n",
       "</style>\n",
       "<table border=\"1\" class=\"dataframe\">\n",
       "  <thead>\n",
       "    <tr style=\"text-align: right;\">\n",
       "      <th>V_O</th>\n",
       "      <th>False</th>\n",
       "      <th>True</th>\n",
       "    </tr>\n",
       "    <tr>\n",
       "      <th>Q9_1</th>\n",
       "      <th></th>\n",
       "      <th></th>\n",
       "    </tr>\n",
       "  </thead>\n",
       "  <tbody>\n",
       "    <tr>\n",
       "      <th>1.0</th>\n",
       "      <td>0.616011</td>\n",
       "      <td>0.383989</td>\n",
       "    </tr>\n",
       "    <tr>\n",
       "      <th>2.0</th>\n",
       "      <td>0.523046</td>\n",
       "      <td>0.476954</td>\n",
       "    </tr>\n",
       "  </tbody>\n",
       "</table>\n",
       "</div>"
      ],
      "text/plain": [
       "V_O      False      True\n",
       "Q9_1                    \n",
       "1.0   0.616011  0.383989\n",
       "2.0   0.523046  0.476954"
      ]
     },
     "metadata": {},
     "output_type": "display_data"
    },
    {
     "data": {
      "image/png": "[encoded data removed]",
      "text/plain": [
       "<Figure size 640x480 with 1 Axes>"
      ]
     },
     "metadata": {},
     "output_type": "display_data"
    }
   ],
   "source": [
    "eda2_cc(v_adol_s, 'Q9_1', 'V_O')"
   ]
  },
  {
   "cell_type": "markdown",
   "id": "7824f3bb",
   "metadata": {},
   "source": [
    "##### Q9_2 (누구와 함께 괴롭혔는가?)\n",
    "- 1.0: 혼자, 2.0: 둘, 3.0: 셋, 4.0: 넷 이상"
   ]
  },
  {
   "cell_type": "code",
   "execution_count": 22,
   "id": "1490f9a9",
   "metadata": {},
   "outputs": [
    {
     "data": {
      "text/plain": [
       "<AxesSubplot:>"
      ]
     },
     "execution_count": 22,
     "metadata": {},
     "output_type": "execute_result"
    },
    {
     "data": {
      "image/png": "[encoded data removed]",
      "text/plain": [
       "<Figure size 640x480 with 1 Axes>"
      ]
     },
     "metadata": {},
     "output_type": "display_data"
    }
   ],
   "source": [
    "v_adol_s['Q9_2'].value_counts().plot(kind='bar')"
   ]
  },
  {
   "cell_type": "code",
   "execution_count": 23,
   "id": "6ba9e463",
   "metadata": {},
   "outputs": [
    {
     "name": "stdout",
     "output_type": "stream",
     "text": [
      "교차표\n",
      "\n"
     ]
    },
    {
     "data": {
      "text/html": [
       "<div>\n",
       "<style scoped>\n",
       "    .dataframe tbody tr th:only-of-type {\n",
       "        vertical-align: middle;\n",
       "    }\n",
       "\n",
       "    .dataframe tbody tr th {\n",
       "        vertical-align: top;\n",
       "    }\n",
       "\n",
       "    .dataframe thead th {\n",
       "        text-align: right;\n",
       "    }\n",
       "</style>\n",
       "<table border=\"1\" class=\"dataframe\">\n",
       "  <thead>\n",
       "    <tr style=\"text-align: right;\">\n",
       "      <th>Q9_2</th>\n",
       "      <th>1.0</th>\n",
       "      <th>2.0</th>\n",
       "      <th>3.0</th>\n",
       "      <th>4.0</th>\n",
       "    </tr>\n",
       "    <tr>\n",
       "      <th>V_O</th>\n",
       "      <th></th>\n",
       "      <th></th>\n",
       "      <th></th>\n",
       "      <th></th>\n",
       "    </tr>\n",
       "  </thead>\n",
       "  <tbody>\n",
       "    <tr>\n",
       "      <th>False</th>\n",
       "      <td>548</td>\n",
       "      <td>91</td>\n",
       "      <td>30</td>\n",
       "      <td>46</td>\n",
       "    </tr>\n",
       "    <tr>\n",
       "      <th>True</th>\n",
       "      <td>334</td>\n",
       "      <td>110</td>\n",
       "      <td>39</td>\n",
       "      <td>38</td>\n",
       "    </tr>\n",
       "  </tbody>\n",
       "</table>\n",
       "</div>"
      ],
      "text/plain": [
       "Q9_2   1.0  2.0  3.0  4.0\n",
       "V_O                      \n",
       "False  548   91   30   46\n",
       "True   334  110   39   38"
      ]
     },
     "metadata": {},
     "output_type": "display_data"
    },
    {
     "data": {
      "text/html": [
       "<div>\n",
       "<style scoped>\n",
       "    .dataframe tbody tr th:only-of-type {\n",
       "        vertical-align: middle;\n",
       "    }\n",
       "\n",
       "    .dataframe tbody tr th {\n",
       "        vertical-align: top;\n",
       "    }\n",
       "\n",
       "    .dataframe thead th {\n",
       "        text-align: right;\n",
       "    }\n",
       "</style>\n",
       "<table border=\"1\" class=\"dataframe\">\n",
       "  <thead>\n",
       "    <tr style=\"text-align: right;\">\n",
       "      <th>Q9_2</th>\n",
       "      <th>1.0</th>\n",
       "      <th>2.0</th>\n",
       "      <th>3.0</th>\n",
       "      <th>4.0</th>\n",
       "    </tr>\n",
       "    <tr>\n",
       "      <th>V_O</th>\n",
       "      <th></th>\n",
       "      <th></th>\n",
       "      <th></th>\n",
       "      <th></th>\n",
       "    </tr>\n",
       "  </thead>\n",
       "  <tbody>\n",
       "    <tr>\n",
       "      <th>False</th>\n",
       "      <td>0.621315</td>\n",
       "      <td>0.452736</td>\n",
       "      <td>0.434783</td>\n",
       "      <td>0.547619</td>\n",
       "    </tr>\n",
       "    <tr>\n",
       "      <th>True</th>\n",
       "      <td>0.378685</td>\n",
       "      <td>0.547264</td>\n",
       "      <td>0.565217</td>\n",
       "      <td>0.452381</td>\n",
       "    </tr>\n",
       "  </tbody>\n",
       "</table>\n",
       "</div>"
      ],
      "text/plain": [
       "Q9_2        1.0       2.0       3.0       4.0\n",
       "V_O                                          \n",
       "False  0.621315  0.452736  0.434783  0.547619\n",
       "True   0.378685  0.547264  0.565217  0.452381"
      ]
     },
     "metadata": {},
     "output_type": "display_data"
    },
    {
     "name": "stdout",
     "output_type": "stream",
     "text": [
      "----------------------------------------------------------------------------------------------------\n",
      "카이제곱통계량 25.841528518920345\n",
      "p-value 1.0294531462129893e-05\n",
      "자유도 3\n",
      "기대빈도\n",
      " [[510.2184466  116.27427184  39.91504854  48.59223301]\n",
      " [371.7815534   84.72572816  29.08495146  35.40776699]]\n"
     ]
    },
    {
     "data": {
      "image/png": "[encoded data removed]",
      "text/plain": [
       "<Figure size 640x480 with 3 Axes>"
      ]
     },
     "metadata": {},
     "output_type": "display_data"
    },
    {
     "data": {
      "text/html": [
       "<div>\n",
       "<style scoped>\n",
       "    .dataframe tbody tr th:only-of-type {\n",
       "        vertical-align: middle;\n",
       "    }\n",
       "\n",
       "    .dataframe tbody tr th {\n",
       "        vertical-align: top;\n",
       "    }\n",
       "\n",
       "    .dataframe thead th {\n",
       "        text-align: right;\n",
       "    }\n",
       "</style>\n",
       "<table border=\"1\" class=\"dataframe\">\n",
       "  <thead>\n",
       "    <tr style=\"text-align: right;\">\n",
       "      <th>V_O</th>\n",
       "      <th>False</th>\n",
       "      <th>True</th>\n",
       "    </tr>\n",
       "    <tr>\n",
       "      <th>Q9_2</th>\n",
       "      <th></th>\n",
       "      <th></th>\n",
       "    </tr>\n",
       "  </thead>\n",
       "  <tbody>\n",
       "    <tr>\n",
       "      <th>1.0</th>\n",
       "      <td>0.621315</td>\n",
       "      <td>0.378685</td>\n",
       "    </tr>\n",
       "    <tr>\n",
       "      <th>2.0</th>\n",
       "      <td>0.452736</td>\n",
       "      <td>0.547264</td>\n",
       "    </tr>\n",
       "    <tr>\n",
       "      <th>3.0</th>\n",
       "      <td>0.434783</td>\n",
       "      <td>0.565217</td>\n",
       "    </tr>\n",
       "    <tr>\n",
       "      <th>4.0</th>\n",
       "      <td>0.547619</td>\n",
       "      <td>0.452381</td>\n",
       "    </tr>\n",
       "  </tbody>\n",
       "</table>\n",
       "</div>"
      ],
      "text/plain": [
       "V_O      False      True\n",
       "Q9_2                    \n",
       "1.0   0.621315  0.378685\n",
       "2.0   0.452736  0.547264\n",
       "3.0   0.434783  0.565217\n",
       "4.0   0.547619  0.452381"
      ]
     },
     "metadata": {},
     "output_type": "display_data"
    },
    {
     "data": {
      "image/png": "[encoded data removed]",
      "text/plain": [
       "<Figure size 640x480 with 1 Axes>"
      ]
     },
     "metadata": {},
     "output_type": "display_data"
    }
   ],
   "source": [
    "eda2_cc(v_adol_s, 'Q9_2', 'V_O')"
   ]
  },
  {
   "cell_type": "markdown",
   "id": "c4df05aa",
   "metadata": {},
   "source": [
    "##### Q9_4_1 ~ Q9_4_6 (괴롭히는 행동을 한 이유는?)\n",
    "- 1.0: 재미나 장난으로, 스트레스 해소를 위해\n",
    "- 2.0: 주변에서 함께 하므로, 친구들과 어울리기 위해 \n",
    "- 3.0: 상대방이 먼저 그런 행동을 해서, 보복하기 위해 \n",
    "- 4.0: 상대방이 싫어서, 상대방에게 화가 나서 \n",
    "- 5.0: 내 의견과 달라서, 상대방이 틀린 말을 해서 \n",
    "- 6.0: 그냥 특별한 이유 없이"
   ]
  },
  {
   "cell_type": "code",
   "execution_count": 24,
   "id": "f6754ded",
   "metadata": {},
   "outputs": [
    {
     "data": {
      "text/plain": [
       "<AxesSubplot:>"
      ]
     },
     "execution_count": 24,
     "metadata": {},
     "output_type": "execute_result"
    },
    {
     "data": {
      "image/png": "[encoded data removed]",
      "text/plain": [
       "<Figure size 640x480 with 1 Axes>"
      ]
     },
     "metadata": {},
     "output_type": "display_data"
    }
   ],
   "source": [
    "v_adol_s['why'].value_counts().plot(kind='bar')"
   ]
  },
  {
   "cell_type": "markdown",
   "id": "75f3feac",
   "metadata": {},
   "source": [
    "##### Q9_6_1 ~ Q9_6_5 (괴롭히고 나서 어떤 생각이 들었는가?)\n",
    "- 1.0: 전혀 그렇지 않다, 2.0: 그렇지 않다, 3.0: 그렇다, 4.0: 매우 그렇다\n",
    "- 1: 정당한 행동이라 생각했다\n",
    "- 2: 상대방에게 미안하고 후회스러웠다\n",
    "- 3: 문제가 생길까봐 걱정되었다\n",
    "- 4: 흥미롭고 재미있었다\n",
    "- 5: 아무런 느낌이 없었다"
   ]
  },
  {
   "cell_type": "code",
   "execution_count": 25,
   "id": "0f60686d",
   "metadata": {},
   "outputs": [
    {
     "data": {
      "image/png": "[encoded data removed]",
      "text/plain": [
       "<Figure size 2000x1500 with 5 Axes>"
      ]
     },
     "metadata": {},
     "output_type": "display_data"
    }
   ],
   "source": [
    "plt.figure(figsize=(20, 15))\n",
    "\n",
    "plt.subplot(3, 2, 1)\n",
    "v_adol_s['Q9_6_1'].value_counts().plot(kind='bar', title='Q9_6_1')\n",
    "plt.subplot(3, 2, 2)\n",
    "v_adol_s['Q9_6_2'].value_counts().plot(kind='bar', title='Q9_6_2')\n",
    "plt.subplot(3, 2, 3)\n",
    "v_adol_s['Q9_6_3'].value_counts().plot(kind='bar', title='Q9_6_3')\n",
    "plt.subplot(3, 2, 4)\n",
    "v_adol_s['Q9_6_4'].value_counts().plot(kind='bar', title='Q9_6_4')\n",
    "plt.subplot(3, 2, 5)\n",
    "v_adol_s['Q9_6_5'].value_counts().plot(kind='bar', title='Q9_6_5')\n",
    "\n",
    "plt.show()"
   ]
  },
  {
   "cell_type": "code",
   "execution_count": null,
   "id": "6059ec6d",
   "metadata": {},
   "outputs": [],
   "source": []
  }
 ],
 "metadata": {
  "kernelspec": {
   "display_name": "ai_env",
   "language": "python",
   "name": "ai_env"
  },
  "language_info": {
   "codemirror_mode": {
    "name": "ipython",
    "version": 3
   },
   "file_extension": ".py",
   "mimetype": "text/x-python",
   "name": "python",
   "nbconvert_exporter": "python",
   "pygments_lexer": "ipython3",
   "version": "3.7.16"
  }
 },
 "nbformat": 4,
 "nbformat_minor": 5
}
